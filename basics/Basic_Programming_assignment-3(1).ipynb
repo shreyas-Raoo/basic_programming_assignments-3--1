{
 "cells": [
  {
   "cell_type": "code",
   "execution_count": null,
   "id": "6a907a4f",
   "metadata": {},
   "outputs": [],
   "source": [
    "# 1.Write a Python Program to Check if a Number is Positive, Negative or Zero?\n",
    "num=int(input(\"Enter the number:\"))\n",
    "if num<0:\n",
    "    print(\"Number is neagtive\")\n",
    "elif num==0:\n",
    "    print(\"Number is zero\")\n",
    "else:\n",
    "    print(\"Number is positive\")"
   ]
  },
  {
   "cell_type": "code",
   "execution_count": null,
   "id": "714652d8",
   "metadata": {},
   "outputs": [],
   "source": [
    "# 2.Write a Python Program to Check if a Number is Odd or Even?\n",
    "\n",
    "num=int(input(\"Enter the number:\"))\n",
    "if num%2==0:\n",
    "    print(\"%d is even\"%num)\n",
    "else:\n",
    "    print(\"%d is odd \"%num)"
   ]
  },
  {
   "cell_type": "code",
   "execution_count": null,
   "id": "03fa4a68",
   "metadata": {},
   "outputs": [],
   "source": [
    "# 3.Write a Python Program to Check Leap Year?\n",
    "\n",
    "year=int(input('Enter the year: '))\n",
    "if year%4==0:\n",
    "    print(\"%d is a leap year\"%year)\n",
    "elif year%100==0 and year%400==0:\n",
    "    print(\"%d is  leap year\"%year)\n",
    "else:\n",
    "    print(\"%d is not a leap year\"%year)\n",
    "\n",
    "\n",
    "    \n",
    "\n",
    "\n",
    "\n",
    "    "
   ]
  },
  {
   "cell_type": "code",
   "execution_count": null,
   "id": "62494076",
   "metadata": {},
   "outputs": [],
   "source": [
    "# 4.Write a Python Program to Check Prime Number?\n",
    "num = int(input(\"Enter the number:\"))\n",
    "if num<2:\n",
    "    print(\"%d is not a prime number\"%num)\n",
    "else:\n",
    "    for i in range(2,num):\n",
    "        if num%2==0:\n",
    "            print(\"%d is not a prime number\"%num)\n",
    "            break\n",
    "    else:\n",
    "        print(\"%d is a prime number!\"%num)"
   ]
  },
  {
   "cell_type": "code",
   "execution_count": 25,
   "id": "ab604c59",
   "metadata": {},
   "outputs": [
    {
     "name": "stdout",
     "output_type": "stream",
     "text": [
      "[2, 3, 5, 7]\n"
     ]
    }
   ],
   "source": [
    "# 5.Write a Python Program to Print all Prime Numbers in an Interval of 1-10000?\n",
    "l1=[]\n",
    "def prime():\n",
    "    for i in range(1,11):\n",
    "        if is_prime(i)==True:\n",
    "            l1.append(i)\n",
    "    return l1\n",
    "print(prime())"
   ]
  },
  {
   "cell_type": "code",
   "execution_count": 16,
   "id": "59c8fde5",
   "metadata": {},
   "outputs": [
    {
     "name": "stdout",
     "output_type": "stream",
     "text": [
      "Enter the number:99\n",
      "False\n"
     ]
    }
   ],
   "source": [
    "num=int(input(\"Enter the number:\"))\n",
    "def is_prime(num):\n",
    "    \n",
    "    if num<2:\n",
    "        ans=False\n",
    "    else:\n",
    "        for i in range(2,num):\n",
    "            if num%i==0:\n",
    "                ans=False\n",
    "                break\n",
    "        else:\n",
    "            ans=True\n",
    "    return ans\n",
    "print(is_prime(num))"
   ]
  },
  {
   "cell_type": "code",
   "execution_count": null,
   "id": "480ff3fe",
   "metadata": {},
   "outputs": [],
   "source": []
  }
 ],
 "metadata": {
  "kernelspec": {
   "display_name": "Python 3 (ipykernel)",
   "language": "python",
   "name": "python3"
  },
  "language_info": {
   "codemirror_mode": {
    "name": "ipython",
    "version": 3
   },
   "file_extension": ".py",
   "mimetype": "text/x-python",
   "name": "python",
   "nbconvert_exporter": "python",
   "pygments_lexer": "ipython3",
   "version": "3.9.12"
  }
 },
 "nbformat": 4,
 "nbformat_minor": 5
}
