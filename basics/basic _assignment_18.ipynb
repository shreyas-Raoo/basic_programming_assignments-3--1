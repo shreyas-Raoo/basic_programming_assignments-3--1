{
 "cells": [
  {
   "cell_type": "code",
   "execution_count": 6,
   "id": "8e20252a",
   "metadata": {},
   "outputs": [
    {
     "name": "stdout",
     "output_type": "stream",
     "text": [
      "Hi how are you?\n"
     ]
    }
   ],
   "source": []
  },
  {
   "cell_type": "code",
   "execution_count": 12,
   "id": "32f9fc87",
   "metadata": {},
   "outputs": [
    {
     "name": "stdout",
     "output_type": "stream",
     "text": [
      "['dlrow olleH']\n"
     ]
    }
   ],
   "source": [
    "# 2.The \"Reverser\" takes a string as input and returns that string in reverse order, with the opposite case.\n",
    "\n",
    "def reverse(string):\n",
    "    string = string[::-1]\n",
    "    return string\n",
    "\n",
    "s = \"Hello world\"\n",
    "print(reverse(s).split(\",\"))"
   ]
  },
  {
   "cell_type": "code",
   "execution_count": 14,
   "id": "e7f3d6cb",
   "metadata": {},
   "outputs": [
    {
     "name": "stdout",
     "output_type": "stream",
     "text": [
      "1\n",
      "[2, 3, 4, 5]\n",
      "1,[2, 3, 4, 5],6\n"
     ]
    }
   ],
   "source": [
    "#3.With Python 3, you can assign variables from lists in a much more succinct way. Create variables first, middle and last from the given list using destructuring assignment \n",
    "\n",
    "first,middle,last= 1,[2, 3, 4, 5],6\n",
    "\n",
    "print(first)\n",
    "print(middle[0:])\n",
    "print(str(first)+','+str(middle)+','+str(last))\n"
   ]
  },
  {
   "cell_type": "code",
   "execution_count": 20,
   "id": "331b6b2a",
   "metadata": {},
   "outputs": [
    {
     "name": "stdout",
     "output_type": "stream",
     "text": [
      "Enter the number: 5\n",
      "Factorial of your number 5 is:  120\n"
     ]
    }
   ],
   "source": [
    "#4. Write a function that calculates the factorial of a number recursively.\n",
    "\n",
    "fact =  int(input(\"Enter the number: \"))\n",
    "\n",
    "\n",
    "def factorial(fact):\n",
    "    if fact==1:\n",
    "        return fact\n",
    "    else:\n",
    "        return fact*factorial(fact-1)\n",
    "    \n",
    "print(\"Factorial of your number %d is: \"%fact,factorial(fact))\n"
   ]
  },
  {
   "cell_type": "code",
   "execution_count": null,
   "id": "e205e667",
   "metadata": {},
   "outputs": [],
   "source": []
  }
 ],
 "metadata": {
  "kernelspec": {
   "display_name": "Python 3",
   "language": "python",
   "name": "python3"
  },
  "language_info": {
   "codemirror_mode": {
    "name": "ipython",
    "version": 3
   },
   "file_extension": ".py",
   "mimetype": "text/x-python",
   "name": "python",
   "nbconvert_exporter": "python",
   "pygments_lexer": "ipython3",
   "version": "3.8.8"
  }
 },
 "nbformat": 4,
 "nbformat_minor": 5
}
