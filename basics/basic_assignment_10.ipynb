{
 "cells": [
  {
   "cell_type": "code",
   "execution_count": null,
   "id": "abb821da",
   "metadata": {},
   "outputs": [],
   "source": [
    "# 1.Write a Python program to find sum of elements in list?\n",
    "l1=[2,6,5,4,8,9,10]\n",
    "l2=[x for x in l1]\n",
    "total=sum(l2)\n",
    "print(total)\n"
   ]
  },
  {
   "cell_type": "code",
   "execution_count": null,
   "id": "93a7eb88",
   "metadata": {},
   "outputs": [],
   "source": [
    "#2.Write a Python program to  Multiply all numbers in the list?\n",
    "\n",
    "l1=[2,6,5,4,8,9,10]\n",
    "multi=1\n",
    "li=[] \n",
    "\n",
    "for i in l1: \n",
    "    multi=multi*i\n",
    "    li.append(multi)\n",
    "print(li)\n"
   ]
  },
  {
   "cell_type": "markdown",
   "id": "7478b3d7",
   "metadata": {},
   "source": [
    "#3.Write a Python program to find smallest number in a list?\n",
    "l1=[23,5,6,11,100,89,78,25,36,3,1,45]\n",
    "l2=[x for x in l1]\n",
    "print(min(l2))"
   ]
  },
  {
   "cell_type": "code",
   "execution_count": null,
   "id": "f8345421",
   "metadata": {},
   "outputs": [],
   "source": [
    "l1=[23,5,6,11,100,89,78,25,36,3,1,45] \n",
    "l2=[x for x in l1] \n",
    "print(min(l2))"
   ]
  },
  {
   "cell_type": "code",
   "execution_count": null,
   "id": "fab664d9",
   "metadata": {},
   "outputs": [],
   "source": [
    "#4.Write a Python program to find largest number in a list?\n",
    "\n",
    "l1=[23,5,6,11,100,89,78,25,36,3,1,45]\n",
    "l2=[x for x in l1]\n",
    "print(max(l2))"
   ]
  },
  {
   "cell_type": "code",
   "execution_count": null,
   "id": "f82b7709",
   "metadata": {},
   "outputs": [],
   "source": [
    "#5. Write a Python program to find second largest number in a list?\n",
    "\n",
    "\n",
    "l1=[23,5,6,11,100,78,25,36,3,1,45]\n",
    "l2 = sorted(l1)\n",
    "print(l2[-2])\n"
   ]
  },
  {
   "cell_type": "code",
   "execution_count": null,
   "id": "1feaef1d",
   "metadata": {},
   "outputs": [],
   "source": [
    "#6. Write a Python program to find N largest elements from a list?\n",
    "l1=[860,550,950,750,450,500,1000,]\n",
    "l2=sorted(l1)\n",
    "#l2 = sorted(l1)\n",
    "#print(l2[-3:])\n",
    "l2.reverse()\n",
    "print(l2)"
   ]
  },
  {
   "cell_type": "code",
   "execution_count": null,
   "id": "29173a70",
   "metadata": {},
   "outputs": [],
   "source": [
    "#7.Write a Python program to print even numbers in a list?\n",
    "l1=[0,1,2,6,66,88,98,99,97,63,62,36,50]\n",
    "l2=[x for x in l1 if x%2==0]\n",
    "print(l2)"
   ]
  },
  {
   "cell_type": "code",
   "execution_count": null,
   "id": "87a759b0",
   "metadata": {},
   "outputs": [],
   "source": [
    "#8.Write a Python program to print odd numbers in a List?\n",
    "l1=[0,1,2,6,66,88,98,99,97,63,62,36,50]\n",
    "l2=[x for x in l1 if x%2!=0]\n",
    "print(l2)"
   ]
  },
  {
   "cell_type": "code",
   "execution_count": 1,
   "id": "c0c335c8",
   "metadata": {},
   "outputs": [
    {
     "name": "stdout",
     "output_type": "stream",
     "text": [
      "[[2, 3, 4], 'hi', 'man', [6, 7, 8]]\n"
     ]
    }
   ],
   "source": [
    "#9.Write a Python program to Remove empty List from List?\n",
    "\n",
    "l1=[[2,3,4],[],\"hi\",\"man\",[],[6,7,8]]\n",
    "l2=[]\n",
    "for x in l1:\n",
    "    if x!=[]:\n",
    "        l2.append(x)\n",
    "print(l2)\n",
    "        "
   ]
  },
  {
   "cell_type": "code",
   "execution_count": 8,
   "id": "2d1d72be",
   "metadata": {},
   "outputs": [
    {
     "name": "stdout",
     "output_type": "stream",
     "text": [
      "[0, 1, 2, 6, 66, 88, 98, 99, 97, 63, 62, 36, 50]\n",
      "[0, 1, 2, 6, 66, 88, 98, 99, 97, 63, 62, 36, 50]\n"
     ]
    }
   ],
   "source": [
    "#10.Write a Python program to Cloning or Copying a list?\n",
    "l1=[0,1,2,6,66,88,98,99,97,63,62,36,50]\n",
    "[l2 for l2 in l1.copy()]\n",
    "print(l1)\n",
    "print(l2)\n"
   ]
  },
  {
   "cell_type": "code",
   "execution_count": 66,
   "id": "c18bfb2f",
   "metadata": {},
   "outputs": [
    {
     "name": "stdout",
     "output_type": "stream",
     "text": [
      "Enter only interger: 5\n",
      "Enter the string characters: hi\n",
      "Numbers:  3\n",
      "String Characters:  2\n"
     ]
    }
   ],
   "source": [
    "#11.Write a Python program to Count occurrences of an element in a list?\n",
    "\n",
    "l1=['hi','bye','wasup' ,'dude',1,2,5,8,74,6,4,5,1,2,5,'hi','bye']\n",
    "occur1=int(input(\"Enter only interger: \"))\n",
    "occur2= input(\"Enter the string characters: \")\n",
    "for i in l1:\n",
    "    if occur1:\n",
    "        l2=l1.count(occur1)\n",
    "        \n",
    "    elif occur2:\n",
    "          l3=l1.count(occur2)\n",
    "            \n",
    "print(\"Numbers: \",l2)\n",
    "print(\"String Characters: \",l3)\n",
    "\n"
   ]
  },
  {
   "cell_type": "code",
   "execution_count": null,
   "id": "2ab651b1",
   "metadata": {},
   "outputs": [],
   "source": []
  },
  {
   "cell_type": "code",
   "execution_count": null,
   "id": "aaeee6e0",
   "metadata": {},
   "outputs": [],
   "source": []
  }
 ],
 "metadata": {
  "kernelspec": {
   "display_name": "Python 3 (ipykernel)",
   "language": "python",
   "name": "python3"
  },
  "language_info": {
   "codemirror_mode": {
    "name": "ipython",
    "version": 3
   },
   "file_extension": ".py",
   "mimetype": "text/x-python",
   "name": "python",
   "nbconvert_exporter": "python",
   "pygments_lexer": "ipython3",
   "version": "3.9.12"
  }
 },
 "nbformat": 4,
 "nbformat_minor": 5
}
