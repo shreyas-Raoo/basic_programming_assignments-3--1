{
 "cells": [
  {
   "cell_type": "code",
   "execution_count": null,
   "id": "fa2c8dc5",
   "metadata": {},
   "outputs": [],
   "source": [
    "# 1. Write a Python Program to Find LCM ?\n",
    "num1=int(input(\"Enter the number:\"))\n",
    "num2=int(input(\"Enter the number:\"))\n",
    "def lowCommonNum(num1,num2):\n",
    "    if num1>num2:\n",
    "        greater=num1\n",
    "    else:\n",
    "        greater=num2\n",
    "    \n",
    "    while True:\n",
    "        if greater % num1 == 0 and greater % num2 == 0:\n",
    "            lcm = greater\n",
    "            break\n",
    "        greater += 1\n",
    "\n",
    "    return lcm\n",
    "print(\"LCM of the given number is :\",lowCommonNum(num1, num2))"
   ]
  },
  {
   "cell_type": "code",
   "execution_count": null,
   "id": "6a416d8a",
   "metadata": {},
   "outputs": [],
   "source": [
    "# 2.Write a Python Program to Find HCF?\n",
    "\n",
    "num1=int(input(\"Enter the number:\"))\n",
    "num2=int(input(\"Enter the number:\"))\n",
    "def lowCommonNum(num1,num2):\n",
    "    if num1>num2:\n",
    "        smaller=num2\n",
    "    else:\n",
    "        smaller=num1\n",
    "    \n",
    "    for x in range(1,smaller + 1):\n",
    "        if num1 % x == 0 and num2 % x == 0:\n",
    "            hcf = x  \n",
    "    return hcf  \n",
    "print(\"HCF of the given number is :\",lowCommonNum(num1, num2))"
   ]
  },
  {
   "cell_type": "code",
   "execution_count": null,
   "id": "6d80d774",
   "metadata": {},
   "outputs": [],
   "source": [
    "# 3.Write a Python Program to Convert Decimal to Binary, Octal and Hexadecimal?\n",
    "\n",
    "[dec for dec in input(\"Enter the number: \")]\n",
    "print(\"Binary number: \",bin(dec))\n",
    "print(\"Octal number: \",oct(dec))\n",
    "print(\"Hexadecimal number: \",hex(dec))\n",
    "\n"
   ]
  },
  {
   "cell_type": "code",
   "execution_count": null,
   "id": "2af7b8b3",
   "metadata": {},
   "outputs": [],
   "source": [
    "# 4.Write a Python Program To Find ASCII value of a character?\n",
    "[var for var in input(\"Enter any character: \")]\n",
    "print(\"ASCII value of \"+var+\" is: \",ord(var))"
   ]
  },
  {
   "cell_type": "code",
   "execution_count": 3,
   "id": "490c77e6",
   "metadata": {},
   "outputs": [
    {
     "name": "stdout",
     "output_type": "stream",
     "text": [
      "Please select operation -\n",
      "1. Add\n",
      "2. Subtract\n",
      "3. Multiply\n",
      "4. Divide\n",
      "\n",
      "Select operations form 1, 2, 3, 4 :4\n",
      "Enter first number: 6\n",
      "Enter second number: 2\n",
      "3.0\n"
     ]
    }
   ],
   "source": [
    "# 5.Write a Python Program to Make a Simple Calculator with 4 basic mathematical operations?(add,multi,div,sub)\n",
    "\n",
    "\n",
    "\n",
    "def add(num1, num2):\n",
    "    return num1 + num2\n",
    "\n",
    "def subtract(num1, num2):\n",
    "    if num1>num2:\n",
    "        return num1 - num2\n",
    "    else:\n",
    "        return num2-num1\n",
    "\n",
    "def multiply(num1, num2):\n",
    "    return num1 * num2\n",
    "\n",
    "def divide(num1, num2):\n",
    "    return num1 / num2\n",
    "\n",
    "print(\"Please select operation -\\n\" \\\n",
    "        \"1. Add\\n\" \\\n",
    "        \"2. Subtract\\n\" \\\n",
    "        \"3. Multiply\\n\" \\\n",
    "        \"4. Divide\\n\")\n",
    "select = int(input(\"Select operations form 1, 2, 3, 4 :\"))\n",
    " \n",
    "number_1 = int(input(\"Enter first number: \"))\n",
    "number_2 = int(input(\"Enter second number: \"))\n",
    " \n",
    "if select == 1:\n",
    "    print(add(number_1, number_2))\n",
    " \n",
    "elif select == 2:\n",
    "    print(subtract(number_1, number_2))\n",
    " \n",
    "elif select == 3:\n",
    "    print(multiply(number_1, number_2))\n",
    " \n",
    "elif select == 4:\n",
    "    print(divide(number_1, number_2))\n",
    "else:\n",
    "    print(\"Invalid input\")"
   ]
  },
  {
   "cell_type": "code",
   "execution_count": null,
   "id": "47e0c1ed",
   "metadata": {},
   "outputs": [],
   "source": []
  },
  {
   "cell_type": "code",
   "execution_count": null,
   "id": "c638bed3",
   "metadata": {},
   "outputs": [],
   "source": []
  }
 ],
 "metadata": {
  "kernelspec": {
   "display_name": "Python 3",
   "language": "python",
   "name": "python3"
  },
  "language_info": {
   "codemirror_mode": {
    "name": "ipython",
    "version": 3
   },
   "file_extension": ".py",
   "mimetype": "text/x-python",
   "name": "python",
   "nbconvert_exporter": "python",
   "pygments_lexer": "ipython3",
   "version": "3.8.8"
  }
 },
 "nbformat": 4,
 "nbformat_minor": 5
}
