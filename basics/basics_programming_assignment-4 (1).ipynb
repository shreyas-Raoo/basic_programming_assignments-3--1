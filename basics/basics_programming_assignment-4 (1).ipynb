{
 "cells": [
  {
   "cell_type": "code",
   "execution_count": null,
   "id": "6257c4a5",
   "metadata": {},
   "outputs": [],
   "source": [
    "# 1.Write a Python Program to Find the Factorial of a Number?\n",
    "num=int(input(\"Enter the Factorial_number:\"))\n",
    "def Factorial(num):\n",
    "    fact=1\n",
    "    \n",
    "    for ech_num in range(1,num+1):\n",
    "        fact=fact*ech_num\n",
    "    return fact\n",
    "print(Factorial(5))\n",
    "        \n",
    "    "
   ]
  },
  {
   "cell_type": "code",
   "execution_count": null,
   "id": "112c1dce",
   "metadata": {},
   "outputs": [],
   "source": [
    "# 2.Write a Python Program to Display the multiplication Table?\n",
    "num=int(input(\"Enter the number:\"))\n",
    "for i in range(1,11):   \n",
    "    ta = num* i\n",
    "    print(\"%d X %d = %d\"%(num,i,ta))\n",
    "    \n",
    "    \n",
    "   "
   ]
  },
  {
   "cell_type": "code",
   "execution_count": null,
   "id": "c0f7d81c",
   "metadata": {},
   "outputs": [],
   "source": [
    "# 3.Write a Python Program to Print the Fibonacci sequence?\n",
    "\n",
    "def fibinoci(num):\n",
    "    if num==0:\n",
    "        return 0\n",
    "    elif num<3:\n",
    "        return 1\n",
    "    else:\n",
    "        return fibinoci(num-1) + fibinoci(num-2)\n",
    "        \n",
    "print(fibinoci(9))\n",
    "\n",
    "    "
   ]
  },
  {
   "cell_type": "code",
   "execution_count": null,
   "id": "b69f0063",
   "metadata": {},
   "outputs": [],
   "source": [
    "# 4.Write a Python Program to Check Armstrong Number?\n",
    "num=input(\"Enter the number:\")\n",
    "sum_cube=[]\n",
    "def amstrongNumber(num):\n",
    "    for i in num:\n",
    "        cube=int(i)**3\n",
    "        sum_cube.append(cube)\n",
    "        if sum(sum_cube)==int(num):\n",
    "            return True\n",
    "        else:\n",
    "            return False\n",
    "    \n",
    "    \n",
    "print(amstrongNumber(num))\n",
    "    "
   ]
  },
  {
   "cell_type": "code",
   "execution_count": null,
   "id": "f872a8bd",
   "metadata": {},
   "outputs": [],
   "source": [
    "# 5.Write a Python Program to Find Armstrong Number in an Interval\n",
    "\n",
    "start = 1\n",
    "end= 1000\n",
    "\n",
    "for i in range(start,end+1):\n",
    "    number=len(str(i))\n",
    "    sum=0\n",
    "    temp = i\n",
    "    while temp > 0:\n",
    "        digit = temp % 10\n",
    "        sum += digit ** number\n",
    "        temp //= 10\n",
    "    if i == sum:\n",
    "        print(i)\n",
    "        \n",
    "\n",
    "       \n",
    "    \n",
    "      \n"
   ]
  },
  {
   "cell_type": "code",
   "execution_count": null,
   "id": "f94f87e2",
   "metadata": {},
   "outputs": [],
   "source": [
    "#6. Write a Python Program to Find the Sum of Natural Numbers?\n",
    "\n",
    "num1=int(input(\"Enter the number:\"))\n",
    "num2=int(input(\"Enter the number:\"))\n",
    "\n",
    "def naturalNumbr(num1,num2):\n",
    "    if num1>=1 and num2>=1:\n",
    "        return num1+num2\n",
    "print( naturalNumbr(num1,num2))\n",
    "    "
   ]
  },
  {
   "cell_type": "code",
   "execution_count": null,
   "id": "f21e5d41",
   "metadata": {},
   "outputs": [],
   "source": [
    "# list comprehension practise-1\n",
    "\n",
    "l1=[num**2 for num in range(0,100)]\n",
    "print(l1)\n",
    "print('\\n')\n",
    "l2=[num**2 for num in range(0,100) if num%2==0]\n",
    "print(l2)"
   ]
  },
  {
   "cell_type": "code",
   "execution_count": null,
   "id": "e279cf99",
   "metadata": {},
   "outputs": [],
   "source": [
    "# list comprehension practise-2\n",
    "\n",
    "some_lists=['a','b','c','b','d','m','d','n','n']\n",
    "dup= list(set([x for x in some_lists if some_lists.count(x)>1]))\n",
    "print(dup)"
   ]
  },
  {
   "cell_type": "code",
   "execution_count": null,
   "id": "ca8195ed",
   "metadata": {},
   "outputs": [],
   "source": [
    "# Count the number of spaces in a string (use string above)\n",
    "\n",
    "some_lists=['a ','b',' c','b','d','m','d','n','n']\n",
    "alpha=[strng for strng in some_lists if strng == \"  \" ]\n",
    "print(alpha)"
   ]
  },
  {
   "cell_type": "code",
   "execution_count": null,
   "id": "bb2a94d9",
   "metadata": {},
   "outputs": [],
   "source": []
  },
  {
   "cell_type": "code",
   "execution_count": null,
   "id": "db922c6d",
   "metadata": {},
   "outputs": [],
   "source": [
    "\n",
    "    "
   ]
  },
  {
   "cell_type": "code",
   "execution_count": null,
   "id": "855b6043",
   "metadata": {},
   "outputs": [],
   "source": []
  }
 ],
 "metadata": {
  "kernelspec": {
   "display_name": "Python 3 (ipykernel)",
   "language": "python",
   "name": "python3"
  },
  "language_info": {
   "codemirror_mode": {
    "name": "ipython",
    "version": 3
   },
   "file_extension": ".py",
   "mimetype": "text/x-python",
   "name": "python",
   "nbconvert_exporter": "python",
   "pygments_lexer": "ipython3",
   "version": "3.9.12"
  }
 },
 "nbformat": 4,
 "nbformat_minor": 5
}
